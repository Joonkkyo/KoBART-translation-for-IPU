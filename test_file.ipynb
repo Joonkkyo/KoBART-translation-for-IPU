{
 "metadata": {
  "language_info": {
   "codemirror_mode": {
    "name": "ipython",
    "version": 3
   },
   "file_extension": ".py",
   "mimetype": "text/x-python",
   "name": "python",
   "nbconvert_exporter": "python",
   "pygments_lexer": "ipython3",
   "version": "3.6.9-final"
  },
  "orig_nbformat": 2,
  "kernelspec": {
   "name": "python3",
   "display_name": "Python 3",
   "language": "python"
  }
 },
 "nbformat": 4,
 "nbformat_minor": 2,
 "cells": [
  {
   "cell_type": "code",
   "execution_count": null,
   "metadata": {},
   "outputs": [],
   "source": []
  },
  {
   "cell_type": "code",
   "execution_count": 1,
   "metadata": {},
   "outputs": [
    {
     "output_type": "execute_result",
     "data": {
      "text/plain": [
       "                                                      kr  \\\n",
       "0      본교에서는 학생들의 소질 계발과 실력 향상은 물론 학부모님의 사교육비 경감을 위하여...   \n",
       "1                이에 따라 다음의 사항을 안내하니 가정에서도 협조하여 주시기 바랍니다.   \n",
       "2      새봄의 기운 속에 새싹들이 기지개를 펴는 계절, 학부모님 가정에도 언제나 행복과 건...   \n",
       "3      2016학년도 학교평가는 전 학교를 대상으로 매년 학교자체평가로 실시되며 학교별로 ...   \n",
       "4                학교 자율휴업일이지만 EBS 교육방송 프로그램 시청(국어)은 있습니다.   \n",
       "...                                                  ...   \n",
       "13495  그런데 필자가 어려서부터 줄곧 가지고 있던 갈릴리 어부들에 대해 변하지 않는 편견들...   \n",
       "13496  특히 동문시장은 해산물은 기본 기념품 구입하기에 좋고, 오메기떡 등 제주만의 고유한...   \n",
       "13497  아무리 많은 것을 누린다고 해도 마치 탄산음료로 갈증을 해결하는 것같이 순간의 만족...   \n",
       "13498  조선 중기 당쟁을 피해 낙향한 황희의 후손들이 나라의 태평성대와 가문의 번창을 기원...   \n",
       "13499  또한 월풀 욕조로 내부에 설치된 여러 개의 제트(물 분사구)에서 물줄기가 분사되어 ...   \n",
       "\n",
       "                                                      en  \n",
       "0      In order to improve students' talents and skil...  \n",
       "1      Accordingly, I would like to inform you of the...  \n",
       "2      In the season when sprouts stretch out in the ...  \n",
       "3      The 2016 school evaluation is conducted as a s...  \n",
       "4      It's a school day off, but there are watching ...  \n",
       "...                                                  ...  \n",
       "13495  But I have had an unchanging prejudice against...  \n",
       "13496  In particular, Dongmun Market Place is a good ...  \n",
       "13497  No matter how much you enjoy, you will only ge...  \n",
       "13498  It is said that the descendants of Hwang Hui, ...  \n",
       "13499  There is also a suite with a whirlpool bathtub...  \n",
       "\n",
       "[13500 rows x 2 columns]"
      ],
      "text/html": "<div>\n<style scoped>\n    .dataframe tbody tr th:only-of-type {\n        vertical-align: middle;\n    }\n\n    .dataframe tbody tr th {\n        vertical-align: top;\n    }\n\n    .dataframe thead th {\n        text-align: right;\n    }\n</style>\n<table border=\"1\" class=\"dataframe\">\n  <thead>\n    <tr style=\"text-align: right;\">\n      <th></th>\n      <th>kr</th>\n      <th>en</th>\n    </tr>\n  </thead>\n  <tbody>\n    <tr>\n      <th>0</th>\n      <td>본교에서는 학생들의 소질 계발과 실력 향상은 물론 학부모님의 사교육비 경감을 위하여...</td>\n      <td>In order to improve students' talents and skil...</td>\n    </tr>\n    <tr>\n      <th>1</th>\n      <td>이에 따라 다음의 사항을 안내하니 가정에서도 협조하여 주시기 바랍니다.</td>\n      <td>Accordingly, I would like to inform you of the...</td>\n    </tr>\n    <tr>\n      <th>2</th>\n      <td>새봄의 기운 속에 새싹들이 기지개를 펴는 계절, 학부모님 가정에도 언제나 행복과 건...</td>\n      <td>In the season when sprouts stretch out in the ...</td>\n    </tr>\n    <tr>\n      <th>3</th>\n      <td>2016학년도 학교평가는 전 학교를 대상으로 매년 학교자체평가로 실시되며 학교별로 ...</td>\n      <td>The 2016 school evaluation is conducted as a s...</td>\n    </tr>\n    <tr>\n      <th>4</th>\n      <td>학교 자율휴업일이지만 EBS 교육방송 프로그램 시청(국어)은 있습니다.</td>\n      <td>It's a school day off, but there are watching ...</td>\n    </tr>\n    <tr>\n      <th>...</th>\n      <td>...</td>\n      <td>...</td>\n    </tr>\n    <tr>\n      <th>13495</th>\n      <td>그런데 필자가 어려서부터 줄곧 가지고 있던 갈릴리 어부들에 대해 변하지 않는 편견들...</td>\n      <td>But I have had an unchanging prejudice against...</td>\n    </tr>\n    <tr>\n      <th>13496</th>\n      <td>특히 동문시장은 해산물은 기본 기념품 구입하기에 좋고, 오메기떡 등 제주만의 고유한...</td>\n      <td>In particular, Dongmun Market Place is a good ...</td>\n    </tr>\n    <tr>\n      <th>13497</th>\n      <td>아무리 많은 것을 누린다고 해도 마치 탄산음료로 갈증을 해결하는 것같이 순간의 만족...</td>\n      <td>No matter how much you enjoy, you will only ge...</td>\n    </tr>\n    <tr>\n      <th>13498</th>\n      <td>조선 중기 당쟁을 피해 낙향한 황희의 후손들이 나라의 태평성대와 가문의 번창을 기원...</td>\n      <td>It is said that the descendants of Hwang Hui, ...</td>\n    </tr>\n    <tr>\n      <th>13499</th>\n      <td>또한 월풀 욕조로 내부에 설치된 여러 개의 제트(물 분사구)에서 물줄기가 분사되어 ...</td>\n      <td>There is also a suite with a whirlpool bathtub...</td>\n    </tr>\n  </tbody>\n</table>\n<p>13500 rows × 2 columns</p>\n</div>"
     },
     "metadata": {},
     "execution_count": 1
    }
   ],
   "source": [
    "import json\n",
    "import pandas as pd\n",
    "import os\n",
    "\n",
    "file_list = os.listdir(\"./json_folder\")\n",
    "kr_list, en_list = [], []\n",
    "\n",
    "for file in file_list:\n",
    "    file_name = os.getcwd() + '/json_folder/' + file\n",
    "    with open(file_name, 'r') as f:\n",
    "        json_data = json.load(f)\n",
    "    for data in json_data:\n",
    "        kr_list.append(data[\"kr\"])\n",
    "        en_list.append(data[\"en\"])\n",
    "\n",
    "train_kr, train_en = kr_list[:13500], en_list[:13500]\n",
    "test_kr, test_en = kr_list[13500:], en_list[13500:]\n",
    "\n",
    "train_df = pd.DataFrame({\"kr\": train_kr, \"en\": train_en})\n",
    "test_df = pd.DataFrame({\"kr\": test_kr, \"en\": test_en})\n",
    "\n",
    "# train_df.to_csv(\"train.csv\")\n",
    "# test_df.to_csv(\"test.csv\")\n",
    "\n"
   ]
  },
  {
   "cell_type": "code",
   "execution_count": null,
   "metadata": {},
   "outputs": [],
   "source": []
  }
 ]
}